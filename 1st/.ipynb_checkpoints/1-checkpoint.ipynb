{
 "cells": [
  {
   "cell_type": "code",
   "execution_count": 10,
   "metadata": {
    "collapsed": false
   },
   "outputs": [
    {
     "name": "stdout",
     "output_type": "stream",
     "text": [
      "1\n",
      "1\n"
     ]
    }
   ],
   "source": [
    "import sys\n",
    "x = 0\n",
    "try:\n",
    "    x = int(input())\n",
    "except ValueError:\n",
    "    print('Invalid Number')\n",
    "\n",
    "result = 1\n",
    "previous = 0\n",
    "if( x == 0):\n",
    "    print(0)\n",
    "elif( x == 1):\n",
    "    print(1)\n",
    "else:\n",
    "    for i in range(2,x + 1):\n",
    "        previous, result = result, result + previous\n",
    "    print(result)\n",
    "       \n",
    "    "
   ]
  }
 ],
 "metadata": {
  "kernelspec": {
   "display_name": "Python 3",
   "language": "python",
   "name": "python3"
  },
  "language_info": {
   "codemirror_mode": {
    "name": "ipython",
    "version": 3
   },
   "file_extension": ".py",
   "mimetype": "text/x-python",
   "name": "python",
   "nbconvert_exporter": "python",
   "pygments_lexer": "ipython3",
   "version": "3.5.2"
  }
 },
 "nbformat": 4,
 "nbformat_minor": 0
}
