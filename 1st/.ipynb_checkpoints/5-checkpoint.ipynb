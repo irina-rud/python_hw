{
 "cells": [
  {
   "cell_type": "code",
   "execution_count": 11,
   "metadata": {
    "collapsed": false
   },
   "outputs": [
    {
     "name": "stdout",
     "output_type": "stream",
     "text": [
      "\n",
      "\n"
     ]
    }
   ],
   "source": [
    "# import no_standard_sort\n",
    "import sys\n",
    "\n",
    "line  = input()\n",
    "vector = list(map(int, line.split()))\n",
    "\n",
    "def bubble_sort(l):\n",
    "    for i in range(0, len(l) - 1):\n",
    "        swap_test = False\n",
    "        for j in range(0, len(l) - i - 1):\n",
    "            if l[j] > l[j + 1]:\n",
    "                l[j], l[j + 1] = l[j + 1], l[j]\n",
    "            swap_test = True\n",
    "        if swap_test == False:\n",
    "            break\n",
    "if len(vector) == 0:\n",
    "    print(\"\")\n",
    "else:\n",
    "    bubble_sort(vector)\n",
    "    s = ''\n",
    "    for i in vector:\n",
    "        s += str(i) +\" \"\n",
    "    print(s[:-1])\n"
   ]
  }
 ],
 "metadata": {
  "kernelspec": {
   "display_name": "Python 3",
   "language": "python",
   "name": "python3"
  },
  "language_info": {
   "codemirror_mode": {
    "name": "ipython",
    "version": 3
   },
   "file_extension": ".py",
   "mimetype": "text/x-python",
   "name": "python",
   "nbconvert_exporter": "python",
   "pygments_lexer": "ipython3",
   "version": "3.5.2"
  }
 },
 "nbformat": 4,
 "nbformat_minor": 0
}
