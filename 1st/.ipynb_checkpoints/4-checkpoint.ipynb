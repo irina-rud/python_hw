{
 "cells": [
  {
   "cell_type": "code",
   "execution_count": 28,
   "metadata": {
    "collapsed": false
   },
   "outputs": [
    {
     "name": "stdout",
     "output_type": "stream",
     "text": [
      "1\n",
      "{{{{{{{{{{{{{{{]\n",
      "no\n"
     ]
    }
   ],
   "source": [
    "p = int(input())\n",
    "\n",
    "for k in range(p):\n",
    "    flag = True\n",
    "    s = input()\n",
    "    stack = []\n",
    "    for i in range(len(s)):\n",
    "        if s[i] == \"(\":\n",
    "            stack.append(1)\n",
    "        elif s[i] == \")\"  :\n",
    "            if (len(stack) > 0) and (stack[-1] == 1):\n",
    "                stack.pop()\n",
    "            else:\n",
    "                flag = False\n",
    "                break\n",
    "        elif s[i] == \"{\":\n",
    "            stack.append(2)\n",
    "        \n",
    "        elif s[i] == \"}\" :\n",
    "            if (len(stack) > 0) and (stack[-1] == 2):\n",
    "                stack.pop()\n",
    "            else:\n",
    "                flag = False\n",
    "                break\n",
    "        elif s[i] == \"[\":\n",
    "            stack.append(3)\n",
    "            \n",
    "        elif s[i] == \"]\":\n",
    "            if((len(stack) > 0) and(stack[-1] == 3)):\n",
    "                stack.pop()\n",
    "            else:          \n",
    "                flag = False\n",
    "                break\n",
    "    if (len(stack) == 0) and (flag):\n",
    "        print(\"yes\")\n",
    "    else:\n",
    "        print(\"no\")"
   ]
  }
 ],
 "metadata": {
  "kernelspec": {
   "display_name": "Python 3",
   "language": "python",
   "name": "python3"
  },
  "language_info": {
   "codemirror_mode": {
    "name": "ipython",
    "version": 3
   },
   "file_extension": ".py",
   "mimetype": "text/x-python",
   "name": "python",
   "nbconvert_exporter": "python",
   "pygments_lexer": "ipython3",
   "version": "3.5.2"
  }
 },
 "nbformat": 4,
 "nbformat_minor": 0
}
