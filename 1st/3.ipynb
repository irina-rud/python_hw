{
 "cells": [
  {
   "cell_type": "code",
   "execution_count": 12,
   "metadata": {
    "collapsed": false
   },
   "outputs": [
    {
     "name": "stdout",
     "output_type": "stream",
     "text": [
      "2\n",
      "3 4\n",
      "5.000000\n"
     ]
    }
   ],
   "source": [
    "import sys\n",
    "\n",
    "p = 0\n",
    "try:\n",
    "    p = float(input())\n",
    "except ValueError:\n",
    "    print('Invalid Number')\n",
    "result = 0\n",
    "\n",
    "inp = input()\n",
    "vect = inp.split()\n",
    "for line in vect:    \n",
    "    try:\n",
    "        n = abs(float(line))\n",
    "    except ValueError:\n",
    "        print('Invalid Number')\n",
    "    result += n ** p\n",
    "print( '%f' % result**(1/p))\n"
   ]
  }
 ],
 "metadata": {
  "kernelspec": {
   "display_name": "Python 3",
   "language": "python",
   "name": "python3"
  },
  "language_info": {
   "codemirror_mode": {
    "name": "ipython",
    "version": 3
   },
   "file_extension": ".py",
   "mimetype": "text/x-python",
   "name": "python",
   "nbconvert_exporter": "python",
   "pygments_lexer": "ipython3",
   "version": "3.5.2"
  }
 },
 "nbformat": 4,
 "nbformat_minor": 0
}
