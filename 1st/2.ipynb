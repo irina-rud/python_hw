{
 "cells": [
  {
   "cell_type": "code",
   "execution_count": 5,
   "metadata": {
    "collapsed": false
   },
   "outputs": [
    {
     "name": "stdout",
     "output_type": "stream",
     "text": [
      "1\n",
      "shad\n",
      "s h a d sh ha ad sha had shad\n"
     ]
    }
   ],
   "source": [
    "import sys\n",
    "\n",
    "N = 0\n",
    "try:\n",
    "    N = int(input())\n",
    "except ValueError:\n",
    "    print('Invalid Number')\n",
    "    \n",
    "for i in range(N):\n",
    "    s = input()\n",
    "    result = \"\"\n",
    "    for a in range(1,len(s) + 1):\n",
    "        for b in range(0,len(s) - a + 1):\n",
    "            result += s[b:b+a] + \" \"\n",
    "    print(result[:-1])"
   ]
  }
 ],
 "metadata": {
  "kernelspec": {
   "display_name": "Python 3",
   "language": "python",
   "name": "python3"
  },
  "language_info": {
   "codemirror_mode": {
    "name": "ipython",
    "version": 3
   },
   "file_extension": ".py",
   "mimetype": "text/x-python",
   "name": "python",
   "nbconvert_exporter": "python",
   "pygments_lexer": "ipython3",
   "version": "3.5.2"
  }
 },
 "nbformat": 4,
 "nbformat_minor": 0
}
