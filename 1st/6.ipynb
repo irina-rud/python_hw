{
 "cells": [
  {
   "cell_type": "code",
   "execution_count": 40,
   "metadata": {
    "collapsed": false
   },
   "outputs": [
    {
     "name": "stdout",
     "output_type": "stream",
     "text": [
      "hello, world!\n",
      "l: 3\n",
      "o: 2\n",
      "d: 1\n",
      "e: 1\n",
      "h: 1\n",
      "r: 1\n",
      "w: 1\n"
     ]
    }
   ],
   "source": [
    "import sys\n",
    "import operator\n",
    "\n",
    "st = ''\n",
    "for line in sys.stdin:\n",
    "    st += line \n",
    "l = list(st.lower().strip())\n",
    "l = list(filter(lambda ch:ch.isalpha(),l))\n",
    "\n",
    "dictionary = dict()\n",
    "for ch in l:\n",
    "    if (ch in dictionary.keys()):\n",
    "        dictionary[ch] -=1\n",
    "    else:\n",
    "        dictionary[ch] = -1\n",
    "sorted_d = sorted(dictionary.items(), key=operator.itemgetter(1, 0))\n",
    "for pair in sorted_d:\n",
    "    print(\"%s: %s\" % (pair[0],abs(pair[1])))"
   ]
  }
 ],
 "metadata": {
  "kernelspec": {
   "display_name": "Python 3",
   "language": "python",
   "name": "python3"
  },
  "language_info": {
   "codemirror_mode": {
    "name": "ipython",
    "version": 3
   },
   "file_extension": ".py",
   "mimetype": "text/x-python",
   "name": "python",
   "nbconvert_exporter": "python",
   "pygments_lexer": "ipython3",
   "version": "3.5.2"
  }
 },
 "nbformat": 4,
 "nbformat_minor": 0
}
