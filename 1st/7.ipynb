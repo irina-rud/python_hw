{
 "cells": [
  {
   "cell_type": "code",
   "execution_count": null,
   "metadata": {
    "collapsed": false
   },
   "outputs": [],
   "source": [
    "import sys\n",
    "\n",
    "# f = open('text.txt')\n",
    "# line = f.readline()\n",
    "# limit = int(line)\n",
    "# line = f.readline()\n",
    "# while(line):\n",
    "limit = int(input())\n",
    "\n",
    "for line in sys.stdin():\n",
    "    words = line.split()\n",
    "    to_print = []\n",
    "    for word in words:\n",
    "        if len(word) >= limit:\n",
    "            to_print.append(word)\n",
    "        elif len(to_print) == 0:\n",
    "            to_print.append(word)\n",
    "        else:\n",
    "            if len(word) + len(to_print[-1])  + 1 <= limit:\n",
    "                to_print[-1] += \" \" + word\n",
    "            else:\n",
    "                to_print.append(word)\n",
    "\n",
    "    for i in range(len(to_print)):\n",
    "        print(to_print[i])\n",
    "    if (len(to_print) == 0):\n",
    "        print()\n",
    "    line = f.readline()\n"
   ]
  }
 ],
 "metadata": {
  "kernelspec": {
   "display_name": "Python 3",
   "language": "python",
   "name": "python3"
  },
  "language_info": {
   "codemirror_mode": {
    "name": "ipython",
    "version": 3
   },
   "file_extension": ".py",
   "mimetype": "text/x-python",
   "name": "python",
   "nbconvert_exporter": "python",
   "pygments_lexer": "ipython3",
   "version": "3.5.2"
  }
 },
 "nbformat": 4,
 "nbformat_minor": 0
}
