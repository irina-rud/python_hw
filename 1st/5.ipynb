{
 "cells": [
  {
   "cell_type": "code",
   "execution_count": 24,
   "metadata": {
    "collapsed": false
   },
   "outputs": [
    {
     "name": "stdout",
     "output_type": "stream",
     "text": [
      "\n"
     ]
    }
   ],
   "source": [
    "import no_standard_sort\n",
    "import sys\n",
    "\n",
    "def quick_sort(l):\n",
    "    quick_sort_r(l, 0, len(l) - 1)\n",
    "\n",
    "def quick_sort_r(l , first, last):\n",
    "    if last > first:\n",
    "        pivot = partition(l, first, last)\n",
    "        quick_sort_r(l, first, pivot - 1)\n",
    "        quick_sort_r(l, pivot + 1, last)\n",
    "        \n",
    "def partition(l, first, last):\n",
    "    mid = (first + last)//2\n",
    "    if l[first] > l[mid]:\n",
    "        l[first], l[mid] = l[mid], l[first]  \n",
    "    if l[first] > l[last]:\n",
    "        l[first], l[last] = l[last], l[first]  \n",
    "    if l[mid] > l[last]:\n",
    "        l[mid], l[last] = l[last], l[mid]    \n",
    "    l[mid], l[first] = l[first], l[mid]    \n",
    "    pivot = first\n",
    "    i = first + 1\n",
    "    j = last\n",
    "  \n",
    "    while True:\n",
    "        while i <= last and l[i] <= l[pivot]:\n",
    "            i += 1\n",
    "        while j >= first and l[j] > l[pivot]:\n",
    "            j -= 1\n",
    "        if i >= j:\n",
    "            break\n",
    "        else:\n",
    "            l[i], l[j] = l[j], l[i] \n",
    "    l[j], l[pivot] = l[pivot], l[j] \n",
    "    return j\n",
    "        \n",
    "line  = sys.stdin.readline()\n",
    "vector = list(map(int, line.split()))\n",
    "        \n",
    "if len(vector) == 0:\n",
    "    print(\"\")\n",
    "else:\n",
    "    quick_sort(vector)\n",
    "    s = ''\n",
    "    for el in vector:\n",
    "        s += str(el) +\" \"\n",
    "    print(s[:-1])\n"
   ]
  }
 ],
 "metadata": {
  "kernelspec": {
   "display_name": "Python 3",
   "language": "python",
   "name": "python3"
  },
  "language_info": {
   "codemirror_mode": {
    "name": "ipython",
    "version": 3
   },
   "file_extension": ".py",
   "mimetype": "text/x-python",
   "name": "python",
   "nbconvert_exporter": "python",
   "pygments_lexer": "ipython3",
   "version": "3.5.2"
  }
 },
 "nbformat": 4,
 "nbformat_minor": 0
}
