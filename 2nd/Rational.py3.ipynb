{
 "cells": [
  {
   "cell_type": "code",
   "execution_count": 9,
   "metadata": {
    "collapsed": false
   },
   "outputs": [],
   "source": [
    "import sys\n",
    "\n",
    "\n",
    "def greatest_divider(m, n):\n",
    "    \"\"\"Greatest common divider algorithm\n",
    "    \"\"\"\n",
    "    while (n != 0):\n",
    "        m, n = n, m % n\n",
    "    return m\n",
    "\n",
    "\n",
    "class Rational:\n",
    "    \"\"\"Class for calculations with rational numbers\n",
    "    \"\"\"\n",
    "    def __init__(self, m=0, n=1):\n",
    "        if n == 0:\n",
    "            raise Exception(\"Divisioning by zero\")\n",
    "        gd = greatest_divider(m, n)\n",
    "        self.m = m // gd\n",
    "        self.n = n // gd\n",
    "\n",
    "    def __str__(self):\n",
    "        return \"%d/%d\" % (self.m, self.n)\n",
    "\n",
    "    def __eq__(self, b):\n",
    "        return self.m == b.m and b.n == self.n\n",
    "\n",
    "    def __ne__(self, b):\n",
    "        return not self.__eq__(b)\n",
    "\n",
    "    def __neg__(self):\n",
    "        return Rational(-self.m, self.n)\n",
    "\n",
    "    def __add__(self, b):\n",
    "        return Rational(self.m * b.n + b.m * self.n, b.n * self.n)\n",
    "\n",
    "    def __sub__(self, b):\n",
    "        return Rational(self.m * b.n - b.m * self.n, b.n * self.n)\n",
    "\n",
    "    def __mul__(self, b):\n",
    "        return Rational(self.m * b.m, b.n * self.n)\n",
    "\n",
    "    def __truediv__(self, b):\n",
    "        return Rational(self.m * b.n, b.m * self.n)\n",
    "\n",
    "\n",
    "exec(sys.stdin.read())\n"
   ]
  }
 ],
 "metadata": {
  "kernelspec": {
   "display_name": "Python 3",
   "language": "python",
   "name": "python3"
  },
  "language_info": {
   "codemirror_mode": {
    "name": "ipython",
    "version": 3
   },
   "file_extension": ".py",
   "mimetype": "text/x-python",
   "name": "python",
   "nbconvert_exporter": "python",
   "pygments_lexer": "ipython3",
   "version": "3.4.3"
  }
 },
 "nbformat": 4,
 "nbformat_minor": 2
}
